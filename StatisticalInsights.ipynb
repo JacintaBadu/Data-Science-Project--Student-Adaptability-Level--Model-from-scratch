{
 "cells": [
  {
   "cell_type": "code",
   "execution_count": 1,
   "id": "dc99eac9-7358-4d6d-9b7c-082012c14d21",
   "metadata": {},
   "outputs": [
    {
     "data": {
      "text/html": [
       "<div>\n",
       "<style scoped>\n",
       "    .dataframe tbody tr th:only-of-type {\n",
       "        vertical-align: middle;\n",
       "    }\n",
       "\n",
       "    .dataframe tbody tr th {\n",
       "        vertical-align: top;\n",
       "    }\n",
       "\n",
       "    .dataframe thead th {\n",
       "        text-align: right;\n",
       "    }\n",
       "</style>\n",
       "<table border=\"1\" class=\"dataframe\">\n",
       "  <thead>\n",
       "    <tr style=\"text-align: right;\">\n",
       "      <th></th>\n",
       "      <th>ID</th>\n",
       "      <th>Gender</th>\n",
       "      <th>Age</th>\n",
       "      <th>Education Level</th>\n",
       "      <th>Institution Type</th>\n",
       "      <th>IT Student</th>\n",
       "      <th>Location</th>\n",
       "      <th>Load-shedding</th>\n",
       "      <th>Financial Condition</th>\n",
       "      <th>Internet Type</th>\n",
       "      <th>Network Type</th>\n",
       "      <th>Class Duration</th>\n",
       "      <th>Self Lms</th>\n",
       "      <th>Device</th>\n",
       "      <th>Adaptivity Level</th>\n",
       "    </tr>\n",
       "  </thead>\n",
       "  <tbody>\n",
       "    <tr>\n",
       "      <th>0</th>\n",
       "      <td>1</td>\n",
       "      <td>Boy</td>\n",
       "      <td>21-25</td>\n",
       "      <td>University</td>\n",
       "      <td>Non Government</td>\n",
       "      <td>No</td>\n",
       "      <td>Yes</td>\n",
       "      <td>Low</td>\n",
       "      <td>Mid</td>\n",
       "      <td>Wifi</td>\n",
       "      <td>4G</td>\n",
       "      <td>3-6</td>\n",
       "      <td>No</td>\n",
       "      <td>Tab</td>\n",
       "      <td>Moderate</td>\n",
       "    </tr>\n",
       "    <tr>\n",
       "      <th>1</th>\n",
       "      <td>2</td>\n",
       "      <td>Girl</td>\n",
       "      <td>21-25</td>\n",
       "      <td>University</td>\n",
       "      <td>Non Government</td>\n",
       "      <td>No</td>\n",
       "      <td>Yes</td>\n",
       "      <td>High</td>\n",
       "      <td>Mid</td>\n",
       "      <td>Mobile Data</td>\n",
       "      <td>4G</td>\n",
       "      <td>1-3</td>\n",
       "      <td>Yes</td>\n",
       "      <td>Mobile</td>\n",
       "      <td>Moderate</td>\n",
       "    </tr>\n",
       "    <tr>\n",
       "      <th>2</th>\n",
       "      <td>3</td>\n",
       "      <td>Girl</td>\n",
       "      <td>16-20</td>\n",
       "      <td>College</td>\n",
       "      <td>Government</td>\n",
       "      <td>No</td>\n",
       "      <td>Yes</td>\n",
       "      <td>Low</td>\n",
       "      <td>Mid</td>\n",
       "      <td>Wifi</td>\n",
       "      <td>4G</td>\n",
       "      <td>1-3</td>\n",
       "      <td>No</td>\n",
       "      <td>Mobile</td>\n",
       "      <td>Moderate</td>\n",
       "    </tr>\n",
       "    <tr>\n",
       "      <th>3</th>\n",
       "      <td>4</td>\n",
       "      <td>Girl</td>\n",
       "      <td>11-15</td>\n",
       "      <td>School</td>\n",
       "      <td>Non Government</td>\n",
       "      <td>No</td>\n",
       "      <td>Yes</td>\n",
       "      <td>Low</td>\n",
       "      <td>Mid</td>\n",
       "      <td>Mobile Data</td>\n",
       "      <td>4G</td>\n",
       "      <td>1-3</td>\n",
       "      <td>No</td>\n",
       "      <td>Mobile</td>\n",
       "      <td>Moderate</td>\n",
       "    </tr>\n",
       "    <tr>\n",
       "      <th>4</th>\n",
       "      <td>5</td>\n",
       "      <td>Girl</td>\n",
       "      <td>16-20</td>\n",
       "      <td>School</td>\n",
       "      <td>Non Government</td>\n",
       "      <td>No</td>\n",
       "      <td>Yes</td>\n",
       "      <td>Low</td>\n",
       "      <td>Poor</td>\n",
       "      <td>Mobile Data</td>\n",
       "      <td>3G</td>\n",
       "      <td>0</td>\n",
       "      <td>No</td>\n",
       "      <td>Mobile</td>\n",
       "      <td>Low</td>\n",
       "    </tr>\n",
       "  </tbody>\n",
       "</table>\n",
       "</div>"
      ],
      "text/plain": [
       "   ID Gender    Age Education Level Institution Type IT Student Location  \\\n",
       "0   1    Boy  21-25      University   Non Government         No      Yes   \n",
       "1   2   Girl  21-25      University   Non Government         No      Yes   \n",
       "2   3   Girl  16-20         College       Government         No      Yes   \n",
       "3   4   Girl  11-15          School   Non Government         No      Yes   \n",
       "4   5   Girl  16-20          School   Non Government         No      Yes   \n",
       "\n",
       "  Load-shedding Financial Condition Internet Type Network Type Class Duration  \\\n",
       "0           Low                 Mid          Wifi           4G            3-6   \n",
       "1          High                 Mid   Mobile Data           4G            1-3   \n",
       "2           Low                 Mid          Wifi           4G            1-3   \n",
       "3           Low                 Mid   Mobile Data           4G            1-3   \n",
       "4           Low                Poor   Mobile Data           3G              0   \n",
       "\n",
       "  Self Lms  Device Adaptivity Level  \n",
       "0       No     Tab         Moderate  \n",
       "1      Yes  Mobile         Moderate  \n",
       "2       No  Mobile         Moderate  \n",
       "3       No  Mobile         Moderate  \n",
       "4       No  Mobile              Low  "
      ]
     },
     "execution_count": 1,
     "metadata": {},
     "output_type": "execute_result"
    }
   ],
   "source": [
    "import pandas as pd\n",
    "url = \"students_adaptability_level.csv\"\n",
    "df = pd.read_csv(url)\n",
    "df.head()"
   ]
  },
  {
   "cell_type": "code",
   "execution_count": 2,
   "id": "ba41bfee-3a07-4a61-800b-49ba06bb91a0",
   "metadata": {},
   "outputs": [
    {
     "data": {
      "text/plain": [
       "Gender\n",
       "Boy     663\n",
       "Girl    542\n",
       "Name: count, dtype: int64"
      ]
     },
     "execution_count": 2,
     "metadata": {},
     "output_type": "execute_result"
    }
   ],
   "source": [
    "df['Gender'].value_counts()"
   ]
  },
  {
   "cell_type": "code",
   "execution_count": 8,
   "id": "ea6aec5a-3157-47d5-8133-c8fe3c6da24f",
   "metadata": {},
   "outputs": [
    {
     "data": {
      "text/plain": [
       "Adaptivity Level\n",
       "Moderate    625\n",
       "Low         480\n",
       "High        100\n",
       "Name: count, dtype: int64"
      ]
     },
     "execution_count": 8,
     "metadata": {},
     "output_type": "execute_result"
    }
   ],
   "source": [
    "df['Adaptivity Level'].value_counts()"
   ]
  },
  {
   "cell_type": "code",
   "execution_count": 15,
   "id": "90c09aa0-9b06-4e8b-abf9-1c611517e5be",
   "metadata": {},
   "outputs": [],
   "source": [
    "high = 100\n",
    "moderate = 625\n",
    "low = 480"
   ]
  },
  {
   "cell_type": "code",
   "execution_count": 25,
   "id": "17568629-aa8b-4b17-bc12-03248b32eb57",
   "metadata": {},
   "outputs": [
    {
     "name": "stdout",
     "output_type": "stream",
     "text": [
      "Number of males that can adapt: 71\n",
      "71.0% of people that easily adapt are males\n"
     ]
    }
   ],
   "source": [
    "#number of boys and girls are not that sparse in our opinion\n",
    "#check if there is a gender imablance in the number of people that can easily adapt\n",
    "# Initialize counter\n",
    "mh = 0\n",
    "\n",
    "# Loop through the DataFrame\n",
    "for index, row in df.iterrows():\n",
    "    if row['Gender'] == 'Boy' and row['Adaptivity Level'] == 'High':\n",
    "        mh += 1\n",
    "\n",
    "print(\"Number of males that can adapt:\", mh)\n",
    "mh_per = (mh/high)*100\n",
    "print(str (mh_per)+ \"% of people that easily adapt are males\")\n"
   ]
  },
  {
   "cell_type": "code",
   "execution_count": 17,
   "id": "bb950588-e390-4ca3-b35c-4b7f4b0c6da9",
   "metadata": {},
   "outputs": [
    {
     "name": "stdout",
     "output_type": "stream",
     "text": [
      "Number of IT students with high adaptability: 33\n",
      "33.0% of people that easily adapt are IT students\n"
     ]
    }
   ],
   "source": [
    "# Check if IT students can adapt better\n",
    "# Initialize counter\n",
    "it_studh = 0\n",
    "\n",
    "# Loop through the DataFrame\n",
    "for index, row in df.iterrows():\n",
    "    if row['IT Student'] == 'Yes' and row['Adaptivity Level'] == 'High':\n",
    "        it_studh += 1\n",
    "\n",
    "print(\"Number of IT students with high adaptability:\", it_studh)\n",
    "\n",
    "it_studh_per = (it_studh/high)*100\n",
    "print(str (it_studh_per)+ \"% of people that easily adapt are IT students\")"
   ]
  },
  {
   "cell_type": "code",
   "execution_count": 18,
   "id": "b7dc222d-537a-4897-b60c-2863b433c6bc",
   "metadata": {},
   "outputs": [],
   "source": [
    "#surprisignly IT students cannot easily adapt, we expected them to constitute almost or more than 50% of the people in the high category."
   ]
  },
  {
   "cell_type": "code",
   "execution_count": 23,
   "id": "94970d7b-39ab-485c-8a00-6ed4252baa8a",
   "metadata": {},
   "outputs": [
    {
     "data": {
      "text/plain": [
       "Self Lms\n",
       "No     995\n",
       "Yes    210\n",
       "Name: count, dtype: int64"
      ]
     },
     "execution_count": 23,
     "metadata": {},
     "output_type": "execute_result"
    }
   ],
   "source": [
    "df['Self Lms'].value_counts()"
   ]
  },
  {
   "cell_type": "code",
   "execution_count": 24,
   "id": "0daf24cc-7057-4b33-9bb8-dbe429ca003e",
   "metadata": {},
   "outputs": [
    {
     "name": "stdout",
     "output_type": "stream",
     "text": [
      "Number of self lms students with high adaptability: 30\n",
      "30.0% of people that easily have Self LMS experience\n"
     ]
    }
   ],
   "source": [
    "#Do people who have self learning platforms adapt better to online education?\n",
    "# Check if lms students can adapt better\n",
    "# Initialize counter\n",
    "lms = 0\n",
    "\n",
    "# Loop through the DataFrame\n",
    "for index, row in df.iterrows():\n",
    "    if row['Self Lms'] == 'Yes' and row['Adaptivity Level'] == 'High':\n",
    "        lms += 1\n",
    "\n",
    "print(\"Number of self lms students with high adaptability:\", lms)\n",
    "\n",
    "lms_per = (lms/high)*100\n",
    "print(str (lms_per)+ \"% of people that easily have Self LMS experience\")"
   ]
  },
  {
   "cell_type": "code",
   "execution_count": null,
   "id": "2a0be546-e637-4bc8-8648-67cf3dfc52e1",
   "metadata": {},
   "outputs": [],
   "source": [
    "# surprisingly people who have experience with self learning management systems are not able to easily adapt,\n",
    "# we expected much higher percentages\n",
    "# online school for us was largely dependent on the ability to self discipline and self- lear,."
   ]
  }
 ],
 "metadata": {
  "kernelspec": {
   "display_name": "Python 3 (ipykernel)",
   "language": "python",
   "name": "python3"
  },
  "language_info": {
   "codemirror_mode": {
    "name": "ipython",
    "version": 3
   },
   "file_extension": ".py",
   "mimetype": "text/x-python",
   "name": "python",
   "nbconvert_exporter": "python",
   "pygments_lexer": "ipython3",
   "version": "3.9.18"
  }
 },
 "nbformat": 4,
 "nbformat_minor": 5
}
